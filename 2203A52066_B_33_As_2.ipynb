{
  "nbformat": 4,
  "nbformat_minor": 0,
  "metadata": {
    "colab": {
      "provenance": []
    },
    "kernelspec": {
      "name": "python3",
      "display_name": "Python 3"
    },
    "language_info": {
      "name": "python"
    }
  },
  "cells": [
    {
      "cell_type": "code",
      "execution_count": 74,
      "metadata": {
        "id": "4IwKoKAWOlta"
      },
      "outputs": [],
      "source": [
        "import pandas as pd\n",
        "import numpy as np\n",
        "d=pd.read_csv('/content/aiml_lab2(1).csv')\n",
        "head=d['Head Size(cm^3)']\n",
        "brain=d['Brain Weight(grams)']"
      ]
    },
    {
      "cell_type": "code",
      "source": [
        "arr=np.array(head)\n",
        "arr2=np.array(brain)\n",
        "max1=np.max(head)\n",
        "min1=np.min(head)\n",
        "max2=np.max(brain)\n",
        "min2=np.min(brain)\n",
        "\n",
        "head= (head - min1) / (max1 - min1)\n",
        "head = np.where(head > 0.5, 1, 0)\n",
        "print('MIN-MAX SCALING OF Head Size(cm^3)')\n",
        "print(head)\n",
        "brain= (brain - min2) / (max2 - min2)\n",
        "brain = np.where(brain > 0.5, 1, 0)\n",
        "print('MIN-MAX SCALING OF Brain Weight(grams)')\n",
        "print(brain)"
      ],
      "metadata": {
        "colab": {
          "base_uri": "https://localhost:8080/"
        },
        "id": "OE5LLFVrRWkt",
        "outputId": "c89cb7fd-ea9d-4367-f8da-fd772f0629a6"
      },
      "execution_count": 47,
      "outputs": [
        {
          "output_type": "stream",
          "name": "stdout",
          "text": [
            "MIN-MAX SCALING OF Head Size(cm^3)\n",
            "[1 0 1 0 1 0 0 0 0 1 0 1 0 1 0]\n",
            "MIN-MAX SCALING OF Brain Weight(grams)\n",
            "[1 0 0 0 1 0 1 0 0 0 0 0 0 1 0]\n"
          ]
        }
      ]
    },
    {
      "cell_type": "code",
      "source": [
        "import pandas as pd\n",
        "file_path =('/content/housing.csv')\n",
        "df = pd.read_csv(file_path)\n",
        "description = df.describe()\n",
        "print(description)"
      ],
      "metadata": {
        "colab": {
          "base_uri": "https://localhost:8080/"
        },
        "id": "gYS1n0LERtGW",
        "outputId": "65625748-8f2c-4269-91cf-db23aa8ecf37"
      },
      "execution_count": 58,
      "outputs": [
        {
          "output_type": "stream",
          "name": "stdout",
          "text": [
            "          longitude      latitude  housing_median_age   total_rooms  \\\n",
            "count  20640.000000  20640.000000        20640.000000  20640.000000   \n",
            "mean    -119.569704     35.631861           28.639486   2635.763081   \n",
            "std        2.003532      2.135952           12.585558   2181.615252   \n",
            "min     -124.350000     32.540000            1.000000      2.000000   \n",
            "25%     -121.800000     33.930000           18.000000   1447.750000   \n",
            "50%     -118.490000     34.260000           29.000000   2127.000000   \n",
            "75%     -118.010000     37.710000           37.000000   3148.000000   \n",
            "max     -114.310000     41.950000           52.000000  39320.000000   \n",
            "\n",
            "       total_bedrooms    population    households  median_income  \\\n",
            "count    20433.000000  20640.000000  20640.000000   20640.000000   \n",
            "mean       537.870553   1425.476744    499.539680       3.870671   \n",
            "std        421.385070   1132.462122    382.329753       1.899822   \n",
            "min          1.000000      3.000000      1.000000       0.499900   \n",
            "25%        296.000000    787.000000    280.000000       2.563400   \n",
            "50%        435.000000   1166.000000    409.000000       3.534800   \n",
            "75%        647.000000   1725.000000    605.000000       4.743250   \n",
            "max       6445.000000  35682.000000   6082.000000      15.000100   \n",
            "\n",
            "       median_house_value  \n",
            "count        20640.000000  \n",
            "mean        206855.816909  \n",
            "std         115395.615874  \n",
            "min          14999.000000  \n",
            "25%         119600.000000  \n",
            "50%         179700.000000  \n",
            "75%         264725.000000  \n",
            "max         500001.000000  \n"
          ]
        }
      ]
    },
    {
      "cell_type": "code",
      "source": [
        "print(\"Data Types of Each Column\")\n",
        "print(df.dtypes)\n",
        "print(\"\\nShape of the DataFrame\")\n",
        "print(df.shape)"
      ],
      "metadata": {
        "colab": {
          "base_uri": "https://localhost:8080/"
        },
        "id": "YRmkOgtwV9Q3",
        "outputId": "6d762f23-b1ca-4652-cce8-315a0c244669"
      },
      "execution_count": 59,
      "outputs": [
        {
          "output_type": "stream",
          "name": "stdout",
          "text": [
            "Data Types of Each Column\n",
            "longitude             float64\n",
            "latitude              float64\n",
            "housing_median_age    float64\n",
            "total_rooms           float64\n",
            "total_bedrooms        float64\n",
            "population            float64\n",
            "households            float64\n",
            "median_income         float64\n",
            "median_house_value    float64\n",
            "ocean_proximity        object\n",
            "dtype: object\n",
            "\n",
            "Shape of the DataFrame\n",
            "(20640, 10)\n"
          ]
        }
      ]
    },
    {
      "cell_type": "code",
      "source": [
        "null_values=df.isnull().sum()\n",
        "print(\"Null Values in Each Column\")\n",
        "print(null_values)\n",
        "print(\"\\nDataFrame after Filling Null Values\")\n",
        "print(df)"
      ],
      "metadata": {
        "colab": {
          "base_uri": "https://localhost:8080/"
        },
        "id": "e9qXTfcebDKX",
        "outputId": "832e4884-bd81-4ded-daa9-9b3c2cb98f8e"
      },
      "execution_count": 63,
      "outputs": [
        {
          "output_type": "stream",
          "name": "stdout",
          "text": [
            "Null Values in Each Column\n",
            "longitude               0\n",
            "latitude                0\n",
            "housing_median_age      0\n",
            "total_rooms             0\n",
            "total_bedrooms        207\n",
            "population              0\n",
            "households              0\n",
            "median_income           0\n",
            "median_house_value      0\n",
            "ocean_proximity         0\n",
            "dtype: int64\n",
            "\n",
            "DataFrame after Filling Null Values\n",
            "       longitude  latitude  housing_median_age  total_rooms  total_bedrooms  \\\n",
            "0        -122.23     37.88                41.0        880.0           129.0   \n",
            "1        -122.22     37.86                21.0       7099.0          1106.0   \n",
            "2        -122.24     37.85                52.0       1467.0           190.0   \n",
            "3        -122.25     37.85                52.0       1274.0           235.0   \n",
            "4        -122.25     37.85                52.0       1627.0           280.0   \n",
            "...          ...       ...                 ...          ...             ...   \n",
            "20635    -121.09     39.48                25.0       1665.0           374.0   \n",
            "20636    -121.21     39.49                18.0        697.0           150.0   \n",
            "20637    -121.22     39.43                17.0       2254.0           485.0   \n",
            "20638    -121.32     39.43                18.0       1860.0           409.0   \n",
            "20639    -121.24     39.37                16.0       2785.0           616.0   \n",
            "\n",
            "       population  households  median_income  median_house_value  \\\n",
            "0           322.0       126.0         8.3252            452600.0   \n",
            "1          2401.0      1138.0         8.3014            358500.0   \n",
            "2           496.0       177.0         7.2574            352100.0   \n",
            "3           558.0       219.0         5.6431            341300.0   \n",
            "4           565.0       259.0         3.8462            342200.0   \n",
            "...           ...         ...            ...                 ...   \n",
            "20635       845.0       330.0         1.5603             78100.0   \n",
            "20636       356.0       114.0         2.5568             77100.0   \n",
            "20637      1007.0       433.0         1.7000             92300.0   \n",
            "20638       741.0       349.0         1.8672             84700.0   \n",
            "20639      1387.0       530.0         2.3886             89400.0   \n",
            "\n",
            "      ocean_proximity  \n",
            "0            NEAR BAY  \n",
            "1            NEAR BAY  \n",
            "2            NEAR BAY  \n",
            "3            NEAR BAY  \n",
            "4            NEAR BAY  \n",
            "...               ...  \n",
            "20635          INLAND  \n",
            "20636          INLAND  \n",
            "20637          INLAND  \n",
            "20638          INLAND  \n",
            "20639          INLAND  \n",
            "\n",
            "[20640 rows x 10 columns]\n"
          ]
        }
      ]
    },
    {
      "cell_type": "code",
      "source": [
        "import pandas as pd\n",
        "from sklearn.preprocessing import MinMaxScaler\n",
        "\n",
        "df = pd.read_csv('/content/housing.csv')\n",
        "\n",
        "print(df.head())\n",
        "\n",
        "features = df.drop(columns=['median_house_value'])\n",
        "\n",
        "target = df['median_house_value']\n",
        "\n",
        "print(\"\\nFeatures:\")\n",
        "print(features.head())\n",
        "print(\"\\nTarget:\")\n",
        "print(target.head())"
      ],
      "metadata": {
        "colab": {
          "base_uri": "https://localhost:8080/"
        },
        "id": "Sd2vwyMbb28a",
        "outputId": "22630a1a-8806-4e9c-9f8a-b999c346aa1e"
      },
      "execution_count": 71,
      "outputs": [
        {
          "output_type": "stream",
          "name": "stdout",
          "text": [
            "   longitude  latitude  housing_median_age  total_rooms  total_bedrooms  \\\n",
            "0    -122.23     37.88                41.0        880.0           129.0   \n",
            "1    -122.22     37.86                21.0       7099.0          1106.0   \n",
            "2    -122.24     37.85                52.0       1467.0           190.0   \n",
            "3    -122.25     37.85                52.0       1274.0           235.0   \n",
            "4    -122.25     37.85                52.0       1627.0           280.0   \n",
            "\n",
            "   population  households  median_income  median_house_value ocean_proximity  \n",
            "0       322.0       126.0         8.3252            452600.0        NEAR BAY  \n",
            "1      2401.0      1138.0         8.3014            358500.0        NEAR BAY  \n",
            "2       496.0       177.0         7.2574            352100.0        NEAR BAY  \n",
            "3       558.0       219.0         5.6431            341300.0        NEAR BAY  \n",
            "4       565.0       259.0         3.8462            342200.0        NEAR BAY  \n",
            "\n",
            "Features:\n",
            "   longitude  latitude  housing_median_age  total_rooms  total_bedrooms  \\\n",
            "0    -122.23     37.88                41.0        880.0           129.0   \n",
            "1    -122.22     37.86                21.0       7099.0          1106.0   \n",
            "2    -122.24     37.85                52.0       1467.0           190.0   \n",
            "3    -122.25     37.85                52.0       1274.0           235.0   \n",
            "4    -122.25     37.85                52.0       1627.0           280.0   \n",
            "\n",
            "   population  households  median_income ocean_proximity  \n",
            "0       322.0       126.0         8.3252        NEAR BAY  \n",
            "1      2401.0      1138.0         8.3014        NEAR BAY  \n",
            "2       496.0       177.0         7.2574        NEAR BAY  \n",
            "3       558.0       219.0         5.6431        NEAR BAY  \n",
            "4       565.0       259.0         3.8462        NEAR BAY  \n",
            "\n",
            "Target:\n",
            "0    452600.0\n",
            "1    358500.0\n",
            "2    352100.0\n",
            "3    341300.0\n",
            "4    342200.0\n",
            "Name: median_house_value, dtype: float64\n"
          ]
        }
      ]
    },
    {
      "cell_type": "code",
      "source": [
        "features_encoded = pd.get_dummies(features, columns=['ocean_proximity'], drop_first=True)\n",
        "\n",
        "scaler = MinMaxScaler()\n",
        "\n",
        "scaled_features = scaler.fit_transform(features_encoded)\n",
        "\n",
        "df_scaled = pd.DataFrame(scaled_features, columns=features_encoded.columns)\n",
        "\n",
        "print(\"\\nNormalized Data:\")\n",
        "print(df_scaled.head())"
      ],
      "metadata": {
        "colab": {
          "base_uri": "https://localhost:8080/"
        },
        "id": "nYCat6wwb7eM",
        "outputId": "9cf2682a-a155-469b-92f8-ee886736d629"
      },
      "execution_count": 72,
      "outputs": [
        {
          "output_type": "stream",
          "name": "stdout",
          "text": [
            "\n",
            "Normalized Data:\n",
            "   longitude  latitude  housing_median_age  total_rooms  total_bedrooms  \\\n",
            "0   0.211155  0.567481            0.784314     0.022331        0.019863   \n",
            "1   0.212151  0.565356            0.392157     0.180503        0.171477   \n",
            "2   0.210159  0.564293            1.000000     0.037260        0.029330   \n",
            "3   0.209163  0.564293            1.000000     0.032352        0.036313   \n",
            "4   0.209163  0.564293            1.000000     0.041330        0.043296   \n",
            "\n",
            "   population  households  median_income  ocean_proximity_INLAND  \\\n",
            "0    0.008941    0.020556       0.539668                     0.0   \n",
            "1    0.067210    0.186976       0.538027                     0.0   \n",
            "2    0.013818    0.028943       0.466028                     0.0   \n",
            "3    0.015555    0.035849       0.354699                     0.0   \n",
            "4    0.015752    0.042427       0.230776                     0.0   \n",
            "\n",
            "   ocean_proximity_ISLAND  ocean_proximity_NEAR BAY  \\\n",
            "0                     0.0                       1.0   \n",
            "1                     0.0                       1.0   \n",
            "2                     0.0                       1.0   \n",
            "3                     0.0                       1.0   \n",
            "4                     0.0                       1.0   \n",
            "\n",
            "   ocean_proximity_NEAR OCEAN  \n",
            "0                         0.0  \n",
            "1                         0.0  \n",
            "2                         0.0  \n",
            "3                         0.0  \n",
            "4                         0.0  \n"
          ]
        }
      ]
    },
    {
      "cell_type": "code",
      "source": [
        "from sklearn.model_selection import train_test_split\n",
        "\n",
        "X_train, X_test, y_train, y_test = train_test_split(df_scaled, target, test_size=0.2, random_state=42)\n",
        "\n",
        "print(\"\\nTrain data shape:\", X_train.shape, y_train.shape)\n",
        "print(\"Test data shape:\", X_test.shape,y_test.shape)"
      ],
      "metadata": {
        "colab": {
          "base_uri": "https://localhost:8080/"
        },
        "id": "zJnjr6Onb9sy",
        "outputId": "32033099-11d2-406f-9fbd-047c1714eee5"
      },
      "execution_count": 73,
      "outputs": [
        {
          "output_type": "stream",
          "name": "stdout",
          "text": [
            "\n",
            "Train data shape: (16512, 12) (16512,)\n",
            "Test data shape: (4128, 12) (4128,)\n"
          ]
        }
      ]
    }
  ]
}